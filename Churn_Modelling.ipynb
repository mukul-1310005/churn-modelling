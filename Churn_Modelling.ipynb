{
 "cells": [
  {
   "cell_type": "code",
   "execution_count": 1,
   "metadata": {},
   "outputs": [],
   "source": [
    "import pandas as pd\n",
    "import numpy as np\n",
    "import seaborn as sns\n",
    "import keras\n",
    "from keras.models import Sequential\n",
    "from keras.layers import Dense"
   ]
  },
  {
   "cell_type": "code",
   "execution_count": 2,
   "metadata": {},
   "outputs": [],
   "source": [
    "dataset = pd.read_csv('Churn_Modelling.csv')\n",
    "dataset = dataset.drop(['RowNumber','CustomerId','Surname'],axis = 1)"
   ]
  },
  {
   "cell_type": "code",
   "execution_count": 3,
   "metadata": {},
   "outputs": [],
   "source": [
    "def Gender2(x):\n",
    "    if x == 'male':\n",
    "        return 1\n",
    "    else:\n",
    "        return 0\n",
    "    \n",
    "dataset['Gender2'] = dataset['Gender'].map(lambda x: Gender2(x.lower()))"
   ]
  },
  {
   "cell_type": "code",
   "execution_count": 4,
   "metadata": {},
   "outputs": [],
   "source": [
    "dataset2 = pd.get_dummies(dataset['Geography'])\n",
    "dataset = pd.concat([dataset,dataset2],axis = 1)"
   ]
  },
  {
   "cell_type": "code",
   "execution_count": 5,
   "metadata": {},
   "outputs": [],
   "source": [
    "dataset = dataset.drop(['Gender','Geography'],axis = 1)"
   ]
  },
  {
   "cell_type": "code",
   "execution_count": 6,
   "metadata": {},
   "outputs": [],
   "source": [
    "x = dataset.drop(['Exited'],axis = 1)\n",
    "y = dataset.loc[:,['Exited']].values"
   ]
  },
  {
   "cell_type": "code",
   "execution_count": 7,
   "metadata": {},
   "outputs": [],
   "source": [
    "from sklearn.preprocessing import StandardScaler\n",
    "sc_x = StandardScaler()\n",
    "x  = sc_x.fit_transform(x)"
   ]
  },
  {
   "cell_type": "code",
   "execution_count": 8,
   "metadata": {},
   "outputs": [],
   "source": [
    "from sklearn.model_selection import train_test_split\n",
    "x_train,x_test,y_train,y_test = train_test_split(x,y,test_size = 0.2,random_state = 0)"
   ]
  },
  {
   "cell_type": "code",
   "execution_count": 9,
   "metadata": {},
   "outputs": [],
   "source": [
    "classifier = Sequential()\n",
    "classifier.add(Dense(units = 6,kernel_initializer = 'uniform',activation = 'relu',input_dim = 12))\n",
    "classifier.add(Dense(units = 6,kernel_initializer = 'uniform',activation = 'relu'))\n",
    "classifier.add(Dense(units = 1,kernel_initializer = 'uniform',activation = 'sigmoid'))\n",
    "classifier.compile(optimizer = 'adam',loss = 'binary_crossentropy',metrics = ['accuracy'])"
   ]
  },
  {
   "cell_type": "code",
   "execution_count": 10,
   "metadata": {},
   "outputs": [
    {
     "name": "stdout",
     "output_type": "stream",
     "text": [
      "Model: \"sequential\"\n",
      "_________________________________________________________________\n",
      "Layer (type)                 Output Shape              Param #   \n",
      "=================================================================\n",
      "dense (Dense)                (None, 6)                 78        \n",
      "_________________________________________________________________\n",
      "dense_1 (Dense)              (None, 6)                 42        \n",
      "_________________________________________________________________\n",
      "dense_2 (Dense)              (None, 1)                 7         \n",
      "=================================================================\n",
      "Total params: 127\n",
      "Trainable params: 127\n",
      "Non-trainable params: 0\n",
      "_________________________________________________________________\n"
     ]
    }
   ],
   "source": [
    "classifier.summary()"
   ]
  },
  {
   "cell_type": "code",
   "execution_count": 11,
   "metadata": {},
   "outputs": [
    {
     "name": "stdout",
     "output_type": "stream",
     "text": [
      "Epoch 1/100\n",
      "800/800 [==============================] - 2s 3ms/step - loss: 0.4806 - accuracy: 0.7960\n",
      "Epoch 2/100\n",
      "800/800 [==============================] - 2s 3ms/step - loss: 0.4302 - accuracy: 0.7960\n",
      "Epoch 3/100\n",
      "800/800 [==============================] - 2s 2ms/step - loss: 0.4260 - accuracy: 0.7960\n",
      "Epoch 4/100\n",
      "800/800 [==============================] - 2s 3ms/step - loss: 0.4217 - accuracy: 0.8098\n",
      "Epoch 5/100\n",
      "800/800 [==============================] - 2s 2ms/step - loss: 0.4190 - accuracy: 0.8194\n",
      "Epoch 6/100\n",
      "800/800 [==============================] - 2s 3ms/step - loss: 0.4167 - accuracy: 0.8235\n",
      "Epoch 7/100\n",
      "800/800 [==============================] - 3s 3ms/step - loss: 0.4149 - accuracy: 0.8271\n",
      "Epoch 8/100\n",
      "800/800 [==============================] - 4s 4ms/step - loss: 0.4132 - accuracy: 0.8305\n",
      "Epoch 9/100\n",
      "800/800 [==============================] - 4s 4ms/step - loss: 0.4121 - accuracy: 0.8314\n",
      "Epoch 10/100\n",
      "800/800 [==============================] - 2s 3ms/step - loss: 0.4107 - accuracy: 0.8326\n",
      "Epoch 11/100\n",
      "800/800 [==============================] - 2s 3ms/step - loss: 0.4096 - accuracy: 0.8334\n",
      "Epoch 12/100\n",
      "800/800 [==============================] - 2s 3ms/step - loss: 0.4090 - accuracy: 0.8340\n",
      "Epoch 13/100\n",
      "800/800 [==============================] - 2s 3ms/step - loss: 0.4080 - accuracy: 0.8330\n",
      "Epoch 14/100\n",
      "800/800 [==============================] - 2s 3ms/step - loss: 0.4075 - accuracy: 0.8349\n",
      "Epoch 15/100\n",
      "800/800 [==============================] - 2s 3ms/step - loss: 0.4066 - accuracy: 0.8347\n",
      "Epoch 16/100\n",
      "800/800 [==============================] - 2s 3ms/step - loss: 0.4065 - accuracy: 0.8339\n",
      "Epoch 17/100\n",
      "800/800 [==============================] - 2s 3ms/step - loss: 0.4058 - accuracy: 0.8345\n",
      "Epoch 18/100\n",
      "800/800 [==============================] - 2s 3ms/step - loss: 0.4056 - accuracy: 0.8340\n",
      "Epoch 19/100\n",
      "800/800 [==============================] - 2s 3ms/step - loss: 0.4054 - accuracy: 0.8349\n",
      "Epoch 20/100\n",
      "800/800 [==============================] - 2s 3ms/step - loss: 0.4054 - accuracy: 0.8357\n",
      "Epoch 21/100\n",
      "800/800 [==============================] - 2s 3ms/step - loss: 0.4047 - accuracy: 0.8350\n",
      "Epoch 22/100\n",
      "800/800 [==============================] - 2s 3ms/step - loss: 0.4047 - accuracy: 0.8338\n",
      "Epoch 23/100\n",
      "800/800 [==============================] - 2s 3ms/step - loss: 0.4046 - accuracy: 0.8347\n",
      "Epoch 24/100\n",
      "800/800 [==============================] - 2s 3ms/step - loss: 0.4037 - accuracy: 0.8355\n",
      "Epoch 25/100\n",
      "800/800 [==============================] - 2s 3ms/step - loss: 0.4040 - accuracy: 0.8349\n",
      "Epoch 26/100\n",
      "800/800 [==============================] - 2s 3ms/step - loss: 0.4039 - accuracy: 0.8344\n",
      "Epoch 27/100\n",
      "800/800 [==============================] - 2s 3ms/step - loss: 0.4032 - accuracy: 0.8341\n",
      "Epoch 28/100\n",
      "800/800 [==============================] - 2s 3ms/step - loss: 0.4036 - accuracy: 0.8335\n",
      "Epoch 29/100\n",
      "800/800 [==============================] - 2s 3ms/step - loss: 0.4027 - accuracy: 0.8364\n",
      "Epoch 30/100\n",
      "800/800 [==============================] - 2s 3ms/step - loss: 0.4029 - accuracy: 0.8355\n",
      "Epoch 31/100\n",
      "800/800 [==============================] - 2s 3ms/step - loss: 0.4025 - accuracy: 0.8354\n",
      "Epoch 32/100\n",
      "800/800 [==============================] - 2s 3ms/step - loss: 0.4029 - accuracy: 0.8357\n",
      "Epoch 33/100\n",
      "800/800 [==============================] - 2s 3ms/step - loss: 0.4027 - accuracy: 0.8353\n",
      "Epoch 34/100\n",
      "800/800 [==============================] - 2s 3ms/step - loss: 0.4028 - accuracy: 0.8361\n",
      "Epoch 35/100\n",
      "800/800 [==============================] - 2s 3ms/step - loss: 0.4023 - accuracy: 0.8346\n",
      "Epoch 36/100\n",
      "800/800 [==============================] - 2s 3ms/step - loss: 0.4027 - accuracy: 0.8363\n",
      "Epoch 37/100\n",
      "800/800 [==============================] - 2s 3ms/step - loss: 0.4027 - accuracy: 0.8344\n",
      "Epoch 38/100\n",
      "800/800 [==============================] - 2s 3ms/step - loss: 0.4022 - accuracy: 0.8354\n",
      "Epoch 39/100\n",
      "800/800 [==============================] - 2s 3ms/step - loss: 0.4013 - accuracy: 0.8336\n",
      "Epoch 40/100\n",
      "800/800 [==============================] - 3s 4ms/step - loss: 0.4016 - accuracy: 0.8344\n",
      "Epoch 41/100\n",
      "800/800 [==============================] - 2s 3ms/step - loss: 0.4026 - accuracy: 0.8349\n",
      "Epoch 42/100\n",
      "800/800 [==============================] - 2s 3ms/step - loss: 0.4017 - accuracy: 0.8359\n",
      "Epoch 43/100\n",
      "800/800 [==============================] - 2s 3ms/step - loss: 0.4020 - accuracy: 0.8345\n",
      "Epoch 44/100\n",
      "800/800 [==============================] - 2s 3ms/step - loss: 0.4018 - accuracy: 0.8366\n",
      "Epoch 45/100\n",
      "800/800 [==============================] - 2s 3ms/step - loss: 0.4016 - accuracy: 0.8350\n",
      "Epoch 46/100\n",
      "800/800 [==============================] - 2s 3ms/step - loss: 0.4015 - accuracy: 0.8357\n",
      "Epoch 47/100\n",
      "800/800 [==============================] - 2s 3ms/step - loss: 0.4014 - accuracy: 0.8341\n",
      "Epoch 48/100\n",
      "800/800 [==============================] - 2s 3ms/step - loss: 0.4009 - accuracy: 0.8365\n",
      "Epoch 49/100\n",
      "800/800 [==============================] - 2s 3ms/step - loss: 0.4020 - accuracy: 0.8344\n",
      "Epoch 50/100\n",
      "800/800 [==============================] - 2s 3ms/step - loss: 0.4014 - accuracy: 0.8338\n",
      "Epoch 51/100\n",
      "800/800 [==============================] - 2s 3ms/step - loss: 0.4016 - accuracy: 0.8365\n",
      "Epoch 52/100\n",
      "800/800 [==============================] - 2s 3ms/step - loss: 0.4014 - accuracy: 0.8359\n",
      "Epoch 53/100\n",
      "800/800 [==============================] - 2s 3ms/step - loss: 0.4014 - accuracy: 0.8353\n",
      "Epoch 54/100\n",
      "800/800 [==============================] - 2s 3ms/step - loss: 0.4011 - accuracy: 0.8347\n",
      "Epoch 55/100\n",
      "800/800 [==============================] - 2s 3ms/step - loss: 0.4012 - accuracy: 0.8345\n",
      "Epoch 56/100\n",
      "800/800 [==============================] - 2s 3ms/step - loss: 0.4009 - accuracy: 0.8332\n",
      "Epoch 57/100\n",
      "800/800 [==============================] - 3s 3ms/step - loss: 0.4014 - accuracy: 0.8375\n",
      "Epoch 58/100\n",
      "800/800 [==============================] - 2s 3ms/step - loss: 0.4012 - accuracy: 0.8342\n",
      "Epoch 59/100\n",
      "800/800 [==============================] - 2s 3ms/step - loss: 0.4011 - accuracy: 0.8363\n",
      "Epoch 60/100\n",
      "800/800 [==============================] - 2s 3ms/step - loss: 0.4012 - accuracy: 0.8344\n",
      "Epoch 61/100\n",
      "800/800 [==============================] - 2s 3ms/step - loss: 0.4009 - accuracy: 0.8345\n",
      "Epoch 62/100\n",
      "800/800 [==============================] - 2s 3ms/step - loss: 0.4007 - accuracy: 0.8357\n",
      "Epoch 63/100\n",
      "800/800 [==============================] - 2s 3ms/step - loss: 0.4013 - accuracy: 0.8345\n",
      "Epoch 64/100\n",
      "800/800 [==============================] - 2s 3ms/step - loss: 0.4009 - accuracy: 0.8360\n",
      "Epoch 65/100\n",
      "800/800 [==============================] - 2s 3ms/step - loss: 0.4011 - accuracy: 0.8370\n",
      "Epoch 66/100\n",
      "800/800 [==============================] - 2s 3ms/step - loss: 0.4012 - accuracy: 0.8357\n",
      "Epoch 67/100\n",
      "800/800 [==============================] - 2s 3ms/step - loss: 0.4009 - accuracy: 0.8336\n",
      "Epoch 68/100\n",
      "800/800 [==============================] - 2s 3ms/step - loss: 0.4005 - accuracy: 0.8350\n",
      "Epoch 69/100\n",
      "800/800 [==============================] - 2s 3ms/step - loss: 0.4013 - accuracy: 0.8356\n",
      "Epoch 70/100\n",
      "800/800 [==============================] - 2s 3ms/step - loss: 0.4009 - accuracy: 0.8356\n",
      "Epoch 71/100\n",
      "800/800 [==============================] - 2s 3ms/step - loss: 0.4010 - accuracy: 0.8344\n",
      "Epoch 72/100\n",
      "800/800 [==============================] - 2s 3ms/step - loss: 0.4006 - accuracy: 0.8341\n",
      "Epoch 73/100\n",
      "800/800 [==============================] - 2s 3ms/step - loss: 0.4010 - accuracy: 0.8355\n",
      "Epoch 74/100\n",
      "800/800 [==============================] - 2s 3ms/step - loss: 0.4007 - accuracy: 0.8353\n",
      "Epoch 75/100\n",
      "800/800 [==============================] - 2s 3ms/step - loss: 0.4006 - accuracy: 0.8341\n",
      "Epoch 76/100\n",
      "800/800 [==============================] - 2s 3ms/step - loss: 0.4008 - accuracy: 0.8346\n",
      "Epoch 77/100\n",
      "800/800 [==============================] - 2s 3ms/step - loss: 0.4007 - accuracy: 0.8355\n",
      "Epoch 78/100\n",
      "800/800 [==============================] - 2s 3ms/step - loss: 0.4008 - accuracy: 0.8340\n",
      "Epoch 79/100\n",
      "800/800 [==============================] - 2s 3ms/step - loss: 0.4010 - accuracy: 0.8350\n",
      "Epoch 80/100\n",
      "800/800 [==============================] - 2s 3ms/step - loss: 0.4006 - accuracy: 0.8353\n",
      "Epoch 81/100\n",
      "800/800 [==============================] - 2s 3ms/step - loss: 0.4007 - accuracy: 0.8360\n",
      "Epoch 82/100\n",
      "800/800 [==============================] - 2s 3ms/step - loss: 0.4006 - accuracy: 0.8345\n",
      "Epoch 83/100\n",
      "800/800 [==============================] - 2s 3ms/step - loss: 0.4007 - accuracy: 0.8340\n",
      "Epoch 84/100\n",
      "800/800 [==============================] - 2s 3ms/step - loss: 0.4006 - accuracy: 0.8363\n",
      "Epoch 85/100\n",
      "800/800 [==============================] - 2s 3ms/step - loss: 0.4009 - accuracy: 0.8342\n",
      "Epoch 86/100\n",
      "800/800 [==============================] - 2s 3ms/step - loss: 0.4003 - accuracy: 0.8359\n",
      "Epoch 87/100\n",
      "800/800 [==============================] - 2s 3ms/step - loss: 0.4005 - accuracy: 0.8366\n",
      "Epoch 88/100\n",
      "800/800 [==============================] - 2s 3ms/step - loss: 0.4003 - accuracy: 0.8342\n",
      "Epoch 89/100\n",
      "800/800 [==============================] - 2s 3ms/step - loss: 0.4006 - accuracy: 0.8346\n",
      "Epoch 90/100\n",
      "800/800 [==============================] - 2s 3ms/step - loss: 0.4006 - accuracy: 0.8366\n",
      "Epoch 91/100\n",
      "800/800 [==============================] - 2s 3ms/step - loss: 0.4005 - accuracy: 0.8347\n",
      "Epoch 92/100\n",
      "800/800 [==============================] - 2s 3ms/step - loss: 0.4004 - accuracy: 0.8339\n",
      "Epoch 93/100\n",
      "800/800 [==============================] - 2s 3ms/step - loss: 0.4005 - accuracy: 0.8365\n",
      "Epoch 94/100\n",
      "800/800 [==============================] - 2s 3ms/step - loss: 0.4009 - accuracy: 0.8366\n",
      "Epoch 95/100\n",
      "800/800 [==============================] - 2s 3ms/step - loss: 0.4004 - accuracy: 0.8344\n",
      "Epoch 96/100\n",
      "800/800 [==============================] - 2s 3ms/step - loss: 0.4005 - accuracy: 0.8356\n",
      "Epoch 97/100\n",
      "800/800 [==============================] - 2s 3ms/step - loss: 0.4006 - accuracy: 0.8357\n",
      "Epoch 98/100\n",
      "800/800 [==============================] - 2s 3ms/step - loss: 0.4005 - accuracy: 0.8339\n",
      "Epoch 99/100\n",
      "800/800 [==============================] - 2s 3ms/step - loss: 0.4005 - accuracy: 0.8378\n",
      "Epoch 100/100\n",
      "800/800 [==============================] - 2s 3ms/step - loss: 0.4004 - accuracy: 0.8351\n"
     ]
    },
    {
     "data": {
      "text/plain": [
       "<tensorflow.python.keras.callbacks.History at 0x7fc7f03c5c10>"
      ]
     },
     "execution_count": 11,
     "metadata": {},
     "output_type": "execute_result"
    }
   ],
   "source": [
    "classifier.fit(x_train,y_train,batch_size = 10,epochs = 100)"
   ]
  },
  {
   "cell_type": "code",
   "execution_count": 12,
   "metadata": {},
   "outputs": [],
   "source": [
    "y_pred = classifier.predict(x_test)"
   ]
  },
  {
   "cell_type": "code",
   "execution_count": 13,
   "metadata": {},
   "outputs": [],
   "source": [
    "def binary(y):\n",
    "    if y>0.50:\n",
    "        return 1\n",
    "    else:\n",
    "        return 0\n",
    "    \n",
    "y_pred = pd.DataFrame(y_pred)    \n",
    "y_pred_binary = y_pred[0].map(lambda y: binary(y))"
   ]
  },
  {
   "cell_type": "code",
   "execution_count": 14,
   "metadata": {},
   "outputs": [],
   "source": [
    "from sklearn.metrics import accuracy_score\n",
    "score = accuracy_score(y_test,y_pred_binary)"
   ]
  },
  {
   "cell_type": "code",
   "execution_count": 15,
   "metadata": {},
   "outputs": [
    {
     "name": "stdout",
     "output_type": "stream",
     "text": [
      "Acciracy on test data is:  0.8385\n"
     ]
    }
   ],
   "source": [
    "print(\"Acciracy on test data is: \", score)"
   ]
  }
 ],
 "metadata": {
  "kernelspec": {
   "display_name": "Python 3",
   "language": "python",
   "name": "python3"
  },
  "language_info": {
   "codemirror_mode": {
    "name": "ipython",
    "version": 3
   },
   "file_extension": ".py",
   "mimetype": "text/x-python",
   "name": "python",
   "nbconvert_exporter": "python",
   "pygments_lexer": "ipython3",
   "version": "3.7.6"
  }
 },
 "nbformat": 4,
 "nbformat_minor": 4
}
